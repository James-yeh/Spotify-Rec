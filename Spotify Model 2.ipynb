{
 "cells": [
  {
   "cell_type": "code",
   "execution_count": 12,
   "id": "78fc9a06",
   "metadata": {},
   "outputs": [],
   "source": [
    "# export the model\n",
    "#\n",
    "import pandas as pd\n",
    "import numpy as np\n",
    "from sklearn.neighbors import NearestNeighbors\n",
    "import joblib\n",
    "from sklearn.preprocessing import LabelEncoder"
   ]
  },
  {
   "cell_type": "code",
   "execution_count": 13,
   "id": "e26c1c66",
   "metadata": {},
   "outputs": [],
   "source": [
    "tracks = pd.read_csv('tracks.csv')\n",
    "data_o = pd.read_csv('data_o.csv')\n",
    "genres = pd.read_csv('data_by_genres_o.csv')\n",
    "df = pd.read_csv('US.csv')\n",
    "df['release_date'] = pd.to_datetime(df['release_date'])\n",
    "df.drop(columns=['id','id_artists'],inplace=True)\n",
    "df['year'] = pd.DatetimeIndex(df['release_date']).year\n",
    "df.drop(columns=['release_date'],inplace = True)"
   ]
  },
  {
   "cell_type": "code",
   "execution_count": 14,
   "id": "52b68a60",
   "metadata": {},
   "outputs": [
    {
     "name": "stdout",
     "output_type": "stream",
     "text": [
      "Origional: (93135, 18)\n",
      "Cleaned: (92767, 18)\n"
     ]
    }
   ],
   "source": [
    "# remove duplicates\n",
    "print(\"Origional:\", df.shape)\n",
    "df = df.drop_duplicates()\n",
    "print(\"Cleaned:\", df.shape)\n",
    "\n",
    "# store names and remove them\n",
    "names = df['name']\n",
    "\n",
    "# label encode artists so It can select similar artists\n",
    "enc = LabelEncoder()\n",
    "df['artists'] = enc.fit_transform(df['artists'])"
   ]
  },
  {
   "cell_type": "code",
   "execution_count": 16,
   "id": "d2fbd03d",
   "metadata": {},
   "outputs": [],
   "source": [
    "X = df.drop(columns=['name']).values"
   ]
  },
  {
   "cell_type": "code",
   "execution_count": 17,
   "id": "a9c56b38",
   "metadata": {},
   "outputs": [
    {
     "data": {
      "text/plain": [
       "NearestNeighbors(n_neighbors=21)"
      ]
     },
     "execution_count": 17,
     "metadata": {},
     "output_type": "execute_result"
    }
   ],
   "source": [
    "neighbors = 20\n",
    "nn = NearestNeighbors(n_neighbors=neighbors + 1)\n",
    "nn.fit(X)"
   ]
  },
  {
   "cell_type": "code",
   "execution_count": 18,
   "id": "dc8ee5f7",
   "metadata": {},
   "outputs": [],
   "source": [
    "# returns the nearest neighbor number of nearest songs given a song object\n",
    "def song_suggester(song_obj):\n",
    "    distance, neighbors = nn.kneighbors(np.array([song_obj]))\n",
    "    suggestions = []\n",
    "    for i in neighbors[0][1:]:\n",
    "        suggestions.append([df['name'].iloc[i],df['artists'].iloc[i]])\n",
    "    return suggestions"
   ]
  },
  {
   "cell_type": "code",
   "execution_count": 45,
   "id": "824f0ea3",
   "metadata": {},
   "outputs": [],
   "source": [
    "def song(name):\n",
    "    song = 'song'\n",
    "    try:\n",
    "        song = song_suggester(X[df['name']==name][0])\n",
    "    except:\n",
    "        print(\"Invalid Name Retard\")\n",
    "    return song"
   ]
  },
  {
   "cell_type": "code",
   "execution_count": 47,
   "id": "eebea746",
   "metadata": {},
   "outputs": [
    {
     "name": "stdout",
     "output_type": "stream",
     "text": [
      "Song: Lillie\n"
     ]
    },
    {
     "data": {
      "text/html": [
       "<div>\n",
       "<style scoped>\n",
       "    .dataframe tbody tr th:only-of-type {\n",
       "        vertical-align: middle;\n",
       "    }\n",
       "\n",
       "    .dataframe tbody tr th {\n",
       "        vertical-align: top;\n",
       "    }\n",
       "\n",
       "    .dataframe thead th {\n",
       "        text-align: right;\n",
       "    }\n",
       "</style>\n",
       "<table border=\"1\" class=\"dataframe\">\n",
       "  <thead>\n",
       "    <tr style=\"text-align: right;\">\n",
       "      <th></th>\n",
       "      <th>song</th>\n",
       "      <th>artist</th>\n",
       "    </tr>\n",
       "  </thead>\n",
       "  <tbody>\n",
       "    <tr>\n",
       "      <th>0</th>\n",
       "      <td>Kelo</td>\n",
       "      <td>13563</td>\n",
       "    </tr>\n",
       "    <tr>\n",
       "      <th>1</th>\n",
       "      <td>Mental Hopscotch</td>\n",
       "      <td>13669</td>\n",
       "    </tr>\n",
       "    <tr>\n",
       "      <th>2</th>\n",
       "      <td>Dint' 'o bar</td>\n",
       "      <td>13618</td>\n",
       "    </tr>\n",
       "    <tr>\n",
       "      <th>3</th>\n",
       "      <td>All I Need</td>\n",
       "      <td>13363</td>\n",
       "    </tr>\n",
       "    <tr>\n",
       "      <th>4</th>\n",
       "      <td>If We're Not Back In Love By Monday</td>\n",
       "      <td>13344</td>\n",
       "    </tr>\n",
       "    <tr>\n",
       "      <th>5</th>\n",
       "      <td>Smoke One</td>\n",
       "      <td>13912</td>\n",
       "    </tr>\n",
       "    <tr>\n",
       "      <th>6</th>\n",
       "      <td>Southern Man</td>\n",
       "      <td>13348</td>\n",
       "    </tr>\n",
       "    <tr>\n",
       "      <th>7</th>\n",
       "      <td>Angels Like You</td>\n",
       "      <td>13589</td>\n",
       "    </tr>\n",
       "    <tr>\n",
       "      <th>8</th>\n",
       "      <td>Good Morning Little School Girl</td>\n",
       "      <td>13933</td>\n",
       "    </tr>\n",
       "    <tr>\n",
       "      <th>9</th>\n",
       "      <td>Look, Back &amp; Laugh</td>\n",
       "      <td>13637</td>\n",
       "    </tr>\n",
       "    <tr>\n",
       "      <th>10</th>\n",
       "      <td>Jo Wada Kiya Woh Nibhana Padega, Pt. 2</td>\n",
       "      <td>13773</td>\n",
       "    </tr>\n",
       "    <tr>\n",
       "      <th>11</th>\n",
       "      <td>Halah</td>\n",
       "      <td>13243</td>\n",
       "    </tr>\n",
       "    <tr>\n",
       "      <th>12</th>\n",
       "      <td>Hip Hop</td>\n",
       "      <td>13874</td>\n",
       "    </tr>\n",
       "    <tr>\n",
       "      <th>13</th>\n",
       "      <td>Aria Kaspar / Aria Kaspar</td>\n",
       "      <td>13431</td>\n",
       "    </tr>\n",
       "    <tr>\n",
       "      <th>14</th>\n",
       "      <td>Rouge</td>\n",
       "      <td>13585</td>\n",
       "    </tr>\n",
       "    <tr>\n",
       "      <th>15</th>\n",
       "      <td>Skin O' My Teeth - Remastered</td>\n",
       "      <td>13282</td>\n",
       "    </tr>\n",
       "    <tr>\n",
       "      <th>16</th>\n",
       "      <td>Raghupati Raghav Rajaram</td>\n",
       "      <td>13664</td>\n",
       "    </tr>\n",
       "    <tr>\n",
       "      <th>17</th>\n",
       "      <td>Beatin' The Odds</td>\n",
       "      <td>13796</td>\n",
       "    </tr>\n",
       "    <tr>\n",
       "      <th>18</th>\n",
       "      <td>Need It</td>\n",
       "      <td>13487</td>\n",
       "    </tr>\n",
       "    <tr>\n",
       "      <th>19</th>\n",
       "      <td>On N'm'a Jamais Parle Comme Ça</td>\n",
       "      <td>13151</td>\n",
       "    </tr>\n",
       "  </tbody>\n",
       "</table>\n",
       "</div>"
      ],
      "text/plain": [
       "                                      song  artist\n",
       "0                                     Kelo   13563\n",
       "1                         Mental Hopscotch   13669\n",
       "2                             Dint' 'o bar   13618\n",
       "3                               All I Need   13363\n",
       "4      If We're Not Back In Love By Monday   13344\n",
       "5                                Smoke One   13912\n",
       "6                             Southern Man   13348\n",
       "7                          Angels Like You   13589\n",
       "8          Good Morning Little School Girl   13933\n",
       "9                       Look, Back & Laugh   13637\n",
       "10  Jo Wada Kiya Woh Nibhana Padega, Pt. 2   13773\n",
       "11                                   Halah   13243\n",
       "12                                 Hip Hop   13874\n",
       "13               Aria Kaspar / Aria Kaspar   13431\n",
       "14                                   Rouge   13585\n",
       "15           Skin O' My Teeth - Remastered   13282\n",
       "16                Raghupati Raghav Rajaram   13664\n",
       "17                        Beatin' The Odds   13796\n",
       "18                                 Need It   13487\n",
       "19          On N'm'a Jamais Parle Comme Ça   13151"
      ]
     },
     "execution_count": 47,
     "metadata": {},
     "output_type": "execute_result"
    }
   ],
   "source": [
    "# example for creating sililar songs\n",
    "# Look at 500 it has interesting insight\n",
    "example = 29483\n",
    "\n",
    "print('Song:',df['name'].iloc[example])\n",
    "\n",
    "suggestions = song_suggester(X[example])\n",
    "sug = pd.DataFrame(suggestions,columns = ['song','artist'])\n",
    "sug.head(20)\n"
   ]
  },
  {
   "cell_type": "code",
   "execution_count": 21,
   "id": "bc5fcc05",
   "metadata": {},
   "outputs": [],
   "source": [
    "# filename = 'NearestNeighbor.sav'\n",
    "# joblib.dump(nn, filename)"
   ]
  },
  {
   "cell_type": "code",
   "execution_count": 11,
   "id": "cf2003c2",
   "metadata": {},
   "outputs": [],
   "source": [
    "# df.to_csv('data.csv')"
   ]
  }
 ],
 "metadata": {
  "kernelspec": {
   "display_name": "Python 3",
   "language": "python",
   "name": "python3"
  },
  "language_info": {
   "codemirror_mode": {
    "name": "ipython",
    "version": 3
   },
   "file_extension": ".py",
   "mimetype": "text/x-python",
   "name": "python",
   "nbconvert_exporter": "python",
   "pygments_lexer": "ipython3",
   "version": "3.8.10"
  }
 },
 "nbformat": 4,
 "nbformat_minor": 5
}
