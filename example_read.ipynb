{
 "cells": [
  {
   "cell_type": "code",
   "execution_count": 1,
   "metadata": {},
   "outputs": [],
   "source": [
    "import numpy as np\n",
    "import pandas as pd\n",
    "from sklearn.preprocessing import LabelEncoder\n",
    "import joblib"
   ]
  },
  {
   "cell_type": "code",
   "execution_count": 2,
   "metadata": {},
   "outputs": [],
   "source": [
    "df = pd.read_csv('data.csv')\n",
    "nn = joblib.load('model.z')\n",
    "enc = joblib.load('encoder.z')"
   ]
  },
  {
   "cell_type": "code",
   "execution_count": 3,
   "metadata": {},
   "outputs": [],
   "source": [
    "# returns the nearest neighbor number of nearest songs given a song object\n",
    "def song_suggester(song_obj):\n",
    "    distance, neighbors = nn.kneighbors(np.array([song_obj]))\n",
    "    suggestions = []\n",
    "    for i in neighbors[0][1:]:\n",
    "        suggestions.append([df['name'].iloc[i],df['artists'].iloc[i]*21583])\n",
    "    sug = pd.DataFrame(suggestions,columns = ['song','artist'])\n",
    "    sug['artist'] = enc.inverse_transform(sug['artist'].to_numpy().astype(int))\n",
    "    return sug\n",
    "# returns a dataframe of 20 songs from song suggester from an exact name\n",
    "def song(name):\n",
    "    song = 'song'\n",
    "    try:\n",
    "        song = df[df['name']==name]\n",
    "        song = song_suggester(song.drop(columns=['name']).iloc[0])\n",
    "    except:\n",
    "        print(\"Invalid Name Retard\")\n",
    "    return song\n",
    "# Just call song(song_name) to get a dataframe with 20 suggestions [title,artist]"
   ]
  },
  {
   "cell_type": "code",
   "execution_count": 4,
   "metadata": {},
   "outputs": [
    {
     "data": {
      "text/html": [
       "<div>\n",
       "<style scoped>\n",
       "    .dataframe tbody tr th:only-of-type {\n",
       "        vertical-align: middle;\n",
       "    }\n",
       "\n",
       "    .dataframe tbody tr th {\n",
       "        vertical-align: top;\n",
       "    }\n",
       "\n",
       "    .dataframe thead th {\n",
       "        text-align: right;\n",
       "    }\n",
       "</style>\n",
       "<table border=\"1\" class=\"dataframe\">\n",
       "  <thead>\n",
       "    <tr style=\"text-align: right;\">\n",
       "      <th></th>\n",
       "      <th>song</th>\n",
       "      <th>artist</th>\n",
       "    </tr>\n",
       "  </thead>\n",
       "  <tbody>\n",
       "    <tr>\n",
       "      <th>0</th>\n",
       "      <td>Trajectories</td>\n",
       "      <td>['Stan Kenton']</td>\n",
       "    </tr>\n",
       "    <tr>\n",
       "      <th>1</th>\n",
       "      <td>The Band with No Name - 2004 Remaster</td>\n",
       "      <td>['Ten Years After']</td>\n",
       "    </tr>\n",
       "    <tr>\n",
       "      <th>2</th>\n",
       "      <td>Through Trees</td>\n",
       "      <td>['The Field Tapes', 'Sleepy Fish']</td>\n",
       "    </tr>\n",
       "    <tr>\n",
       "      <th>3</th>\n",
       "      <td>Ever Forward</td>\n",
       "      <td>['dodie']</td>\n",
       "    </tr>\n",
       "    <tr>\n",
       "      <th>4</th>\n",
       "      <td>Sleepwalk</td>\n",
       "      <td>['The Shadows']</td>\n",
       "    </tr>\n",
       "  </tbody>\n",
       "</table>\n",
       "</div>"
      ],
      "text/plain": [
       "                                    song                              artist\n",
       "0                           Trajectories                     ['Stan Kenton']\n",
       "1  The Band with No Name - 2004 Remaster                 ['Ten Years After']\n",
       "2                          Through Trees  ['The Field Tapes', 'Sleepy Fish']\n",
       "3                           Ever Forward                           ['dodie']\n",
       "4                              Sleepwalk                     ['The Shadows']"
      ]
     },
     "execution_count": 4,
     "metadata": {},
     "output_type": "execute_result"
    }
   ],
   "source": [
    "read = song('Carve')\n",
    "read.head()"
   ]
  }
 ],
 "metadata": {
  "kernelspec": {
   "display_name": "Python 3",
   "language": "python",
   "name": "python3"
  },
  "language_info": {
   "codemirror_mode": {
    "name": "ipython",
    "version": 3
   },
   "file_extension": ".py",
   "mimetype": "text/x-python",
   "name": "python",
   "nbconvert_exporter": "python",
   "pygments_lexer": "ipython3",
   "version": "3.8.10"
  }
 },
 "nbformat": 4,
 "nbformat_minor": 4
}
