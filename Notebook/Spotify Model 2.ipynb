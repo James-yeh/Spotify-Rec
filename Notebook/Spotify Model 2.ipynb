{
 "cells": [
  {
   "cell_type": "code",
   "execution_count": 1,
   "metadata": {},
   "outputs": [],
   "source": [
    "# export the model\n",
    "# genres\n",
    "# fix dataset and export it\n",
    "import pandas as pd\n",
    "import numpy as np\n",
    "from sklearn.neighbors import NearestNeighbors\n",
    "import joblib\n",
    "from sklearn.preprocessing import LabelEncoder"
   ]
  },
  {
   "cell_type": "code",
   "execution_count": 2,
   "metadata": {},
   "outputs": [],
   "source": [
    "# genres_csv = pd.read_csv('data_by_genres_o.csv')\n",
    "df = pd.read_csv('US.csv')\n",
    "\n",
    "# create year column from release date \n",
    "df['year'] = pd.DatetimeIndex(df['release_date']).year\n",
    "\n",
    "# drop categorical columns\n",
    "df.drop(columns=['release_date','id','id_artists'],inplace = True)\n",
    "\n",
    "# save genres \n",
    "# genres = genres_csv['genres']\n",
    "\n",
    "# drop columns that arnt normalized (im lazy and it takes too long anyway)\n",
    "# genres_csv.drop(columns=['mode','loudness','genres','duration_ms','tempo'],inplace=True)"
   ]
  },
  {
   "cell_type": "code",
   "execution_count": 3,
   "metadata": {},
   "outputs": [],
   "source": [
    "# def calc_distance(row,genre):\n",
    "#     distance = 0\n",
    "#     for col in (genre.index):\n",
    "#         distance += abs(row[col]-genre[col])\n",
    "#     return distance"
   ]
  },
  {
   "cell_type": "code",
   "execution_count": 4,
   "metadata": {},
   "outputs": [],
   "source": [
    "# This Took Way Too Long\n",
    "\n",
    "# index = 0\n",
    "# for i in range(len(df)):\n",
    "#     min_diff = 1000\n",
    "#     for j in range(len(genres_csv)):\n",
    "#         diff = calc_distance(df.iloc[i],genres_csv.iloc[j])\n",
    "#         if (diff <= min_diff):\n",
    "#             index = j\n",
    "#             min_diff = diff\n",
    "#     print(i,genres[index],min_diff)\n",
    "#     df['genre'][i] = genres[index]"
   ]
  },
  {
   "cell_type": "code",
   "execution_count": 5,
   "metadata": {},
   "outputs": [
    {
     "name": "stdout",
     "output_type": "stream",
     "text": [
      "Origional: (93135, 18)\n",
      "Cleaned: (92767, 18)\n"
     ]
    }
   ],
   "source": [
    "# remove duplicates\n",
    "print(\"Origional:\", df.shape)\n",
    "df = df.drop_duplicates()\n",
    "print(\"Cleaned:\", df.shape)\n",
    "\n",
    "# label encode artists so It can select the same artist\n",
    "enc = LabelEncoder()\n",
    "df['artists'] = enc.fit_transform(df['artists'])\n",
    "\n",
    "# normalize data\n",
    "for i in df.columns[1:]:\n",
    "    df[i] = df[i]/df[i].max()"
   ]
  },
  {
   "cell_type": "code",
   "execution_count": 6,
   "metadata": {},
   "outputs": [],
   "source": [
    "X = df.drop(columns=['name']).values"
   ]
  },
  {
   "cell_type": "code",
   "execution_count": 7,
   "metadata": {},
   "outputs": [
    {
     "data": {
      "text/plain": [
       "NearestNeighbors(n_neighbors=21)"
      ]
     },
     "execution_count": 7,
     "metadata": {},
     "output_type": "execute_result"
    }
   ],
   "source": [
    "neighbors = 20\n",
    "nn = NearestNeighbors(n_neighbors=neighbors + 1)\n",
    "nn.fit(X)"
   ]
  },
  {
   "cell_type": "code",
   "execution_count": 8,
   "metadata": {},
   "outputs": [],
   "source": [
    "# returns the nearest neighbor number of nearest songs given a song object\n",
    "def song_suggester(song_obj):\n",
    "    distance, neighbors = nn.kneighbors(np.array([song_obj]))\n",
    "    suggestions = []\n",
    "    for i in neighbors[0][1:]:\n",
    "        suggestions.append([df['name'].iloc[i],df['artists'].iloc[i]*21583])\n",
    "    sug = pd.DataFrame(suggestions,columns = ['song','artist'])\n",
    "    sug['artist'] = enc.inverse_transform(sug['artist'].to_numpy().astype(int))\n",
    "    return sug\n",
    "# returns a song from song suggester from an exact name\n",
    "def song(name):\n",
    "    song = 'song'\n",
    "    try:\n",
    "        song = song_suggester(X[df['name']==name][0])\n",
    "    except:\n",
    "        print(\"Invalid Name Retard\")\n",
    "    return song\n",
    "# Just call song(song_name) to get a dataframe with 20 suggestions [title,artist]"
   ]
  },
  {
   "cell_type": "code",
   "execution_count": 9,
   "metadata": {},
   "outputs": [
    {
     "name": "stdout",
     "output_type": "stream",
     "text": [
      "Song: Lillie\n"
     ]
    },
    {
     "data": {
      "text/html": [
       "<div>\n",
       "<style scoped>\n",
       "    .dataframe tbody tr th:only-of-type {\n",
       "        vertical-align: middle;\n",
       "    }\n",
       "\n",
       "    .dataframe tbody tr th {\n",
       "        vertical-align: top;\n",
       "    }\n",
       "\n",
       "    .dataframe thead th {\n",
       "        text-align: right;\n",
       "    }\n",
       "</style>\n",
       "<table border=\"1\" class=\"dataframe\">\n",
       "  <thead>\n",
       "    <tr style=\"text-align: right;\">\n",
       "      <th></th>\n",
       "      <th>song</th>\n",
       "      <th>artist</th>\n",
       "    </tr>\n",
       "  </thead>\n",
       "  <tbody>\n",
       "    <tr>\n",
       "      <th>0</th>\n",
       "      <td>In The Evening (When The Sun Goes Down)</td>\n",
       "      <td>['Mel Tormé']</td>\n",
       "    </tr>\n",
       "    <tr>\n",
       "      <th>1</th>\n",
       "      <td>Bailiff's Daughter of Islington</td>\n",
       "      <td>['Paul Clayton']</td>\n",
       "    </tr>\n",
       "    <tr>\n",
       "      <th>2</th>\n",
       "      <td>Luna Rossa</td>\n",
       "      <td>['Roberto Murolo']</td>\n",
       "    </tr>\n",
       "    <tr>\n",
       "      <th>3</th>\n",
       "      <td>Without A Love To Call My Own</td>\n",
       "      <td>['June Carter Cash']</td>\n",
       "    </tr>\n",
       "    <tr>\n",
       "      <th>4</th>\n",
       "      <td>White Christmas</td>\n",
       "      <td>['Merle Haggard']</td>\n",
       "    </tr>\n",
       "  </tbody>\n",
       "</table>\n",
       "</div>"
      ],
      "text/plain": [
       "                                      song                artist\n",
       "0  In The Evening (When The Sun Goes Down)         ['Mel Tormé']\n",
       "1          Bailiff's Daughter of Islington      ['Paul Clayton']\n",
       "2                               Luna Rossa    ['Roberto Murolo']\n",
       "3            Without A Love To Call My Own  ['June Carter Cash']\n",
       "4                          White Christmas     ['Merle Haggard']"
      ]
     },
     "execution_count": 9,
     "metadata": {},
     "output_type": "execute_result"
    }
   ],
   "source": [
    "# example for creating similar songs\n",
    "example = 29483\n",
    "\n",
    "print('Song:',df['name'].iloc[example])\n",
    "\n",
    "suggestions = song_suggester(X[example])\n",
    "\n",
    "suggestions.head()"
   ]
  },
  {
   "cell_type": "code",
   "execution_count": 10,
   "metadata": {},
   "outputs": [
    {
     "data": {
      "text/html": [
       "<div>\n",
       "<style scoped>\n",
       "    .dataframe tbody tr th:only-of-type {\n",
       "        vertical-align: middle;\n",
       "    }\n",
       "\n",
       "    .dataframe tbody tr th {\n",
       "        vertical-align: top;\n",
       "    }\n",
       "\n",
       "    .dataframe thead th {\n",
       "        text-align: right;\n",
       "    }\n",
       "</style>\n",
       "<table border=\"1\" class=\"dataframe\">\n",
       "  <thead>\n",
       "    <tr style=\"text-align: right;\">\n",
       "      <th></th>\n",
       "      <th>name</th>\n",
       "      <th>popularity</th>\n",
       "      <th>duration_ms</th>\n",
       "      <th>explicit</th>\n",
       "      <th>artists</th>\n",
       "      <th>danceability</th>\n",
       "      <th>energy</th>\n",
       "      <th>key</th>\n",
       "      <th>loudness</th>\n",
       "      <th>mode</th>\n",
       "      <th>speechiness</th>\n",
       "      <th>acousticness</th>\n",
       "      <th>instrumentalness</th>\n",
       "      <th>liveness</th>\n",
       "      <th>valence</th>\n",
       "      <th>tempo</th>\n",
       "      <th>time_signature</th>\n",
       "      <th>year</th>\n",
       "    </tr>\n",
       "  </thead>\n",
       "  <tbody>\n",
       "    <tr>\n",
       "      <th>0</th>\n",
       "      <td>Carve</td>\n",
       "      <td>0.06</td>\n",
       "      <td>0.026437</td>\n",
       "      <td>0.0</td>\n",
       "      <td>0.934300</td>\n",
       "      <td>0.652834</td>\n",
       "      <td>0.4450</td>\n",
       "      <td>0.000000</td>\n",
       "      <td>-3.459922</td>\n",
       "      <td>1.0</td>\n",
       "      <td>0.464948</td>\n",
       "      <td>0.676707</td>\n",
       "      <td>0.7440</td>\n",
       "      <td>0.151151</td>\n",
       "      <td>0.127</td>\n",
       "      <td>0.430826</td>\n",
       "      <td>0.6</td>\n",
       "      <td>0.951014</td>\n",
       "    </tr>\n",
       "    <tr>\n",
       "      <th>1</th>\n",
       "      <td>Capítulo 2.16 - Banquero Anarquista</td>\n",
       "      <td>0.00</td>\n",
       "      <td>0.020458</td>\n",
       "      <td>0.0</td>\n",
       "      <td>0.295835</td>\n",
       "      <td>0.703441</td>\n",
       "      <td>0.2630</td>\n",
       "      <td>0.000000</td>\n",
       "      <td>-5.742153</td>\n",
       "      <td>1.0</td>\n",
       "      <td>0.986598</td>\n",
       "      <td>0.800201</td>\n",
       "      <td>0.0000</td>\n",
       "      <td>0.148148</td>\n",
       "      <td>0.655</td>\n",
       "      <td>0.419148</td>\n",
       "      <td>0.2</td>\n",
       "      <td>0.951014</td>\n",
       "    </tr>\n",
       "    <tr>\n",
       "      <th>2</th>\n",
       "      <td>Vivo para Quererte - Remasterizado</td>\n",
       "      <td>0.00</td>\n",
       "      <td>0.037841</td>\n",
       "      <td>0.0</td>\n",
       "      <td>0.403002</td>\n",
       "      <td>0.439271</td>\n",
       "      <td>0.1770</td>\n",
       "      <td>0.090909</td>\n",
       "      <td>-5.494163</td>\n",
       "      <td>1.0</td>\n",
       "      <td>0.052784</td>\n",
       "      <td>0.997992</td>\n",
       "      <td>0.0218</td>\n",
       "      <td>0.212212</td>\n",
       "      <td>0.457</td>\n",
       "      <td>0.535879</td>\n",
       "      <td>1.0</td>\n",
       "      <td>0.951014</td>\n",
       "    </tr>\n",
       "    <tr>\n",
       "      <th>3</th>\n",
       "      <td>El Prisionero - Remasterizado</td>\n",
       "      <td>0.00</td>\n",
       "      <td>0.036855</td>\n",
       "      <td>0.0</td>\n",
       "      <td>0.403002</td>\n",
       "      <td>0.324899</td>\n",
       "      <td>0.0946</td>\n",
       "      <td>0.636364</td>\n",
       "      <td>-7.253178</td>\n",
       "      <td>1.0</td>\n",
       "      <td>0.051959</td>\n",
       "      <td>0.998996</td>\n",
       "      <td>0.9180</td>\n",
       "      <td>0.104104</td>\n",
       "      <td>0.397</td>\n",
       "      <td>0.698437</td>\n",
       "      <td>0.6</td>\n",
       "      <td>0.951014</td>\n",
       "    </tr>\n",
       "    <tr>\n",
       "      <th>4</th>\n",
       "      <td>Lady of the Evening</td>\n",
       "      <td>0.00</td>\n",
       "      <td>0.033974</td>\n",
       "      <td>0.0</td>\n",
       "      <td>0.231895</td>\n",
       "      <td>0.406883</td>\n",
       "      <td>0.1580</td>\n",
       "      <td>0.272727</td>\n",
       "      <td>-4.383917</td>\n",
       "      <td>0.0</td>\n",
       "      <td>0.040206</td>\n",
       "      <td>0.992972</td>\n",
       "      <td>0.1300</td>\n",
       "      <td>0.311311</td>\n",
       "      <td>0.196</td>\n",
       "      <td>0.424124</td>\n",
       "      <td>0.8</td>\n",
       "      <td>0.951014</td>\n",
       "    </tr>\n",
       "  </tbody>\n",
       "</table>\n",
       "</div>"
      ],
      "text/plain": [
       "                                  name  popularity  duration_ms  explicit  \\\n",
       "0                                Carve        0.06     0.026437       0.0   \n",
       "1  Capítulo 2.16 - Banquero Anarquista        0.00     0.020458       0.0   \n",
       "2   Vivo para Quererte - Remasterizado        0.00     0.037841       0.0   \n",
       "3        El Prisionero - Remasterizado        0.00     0.036855       0.0   \n",
       "4                  Lady of the Evening        0.00     0.033974       0.0   \n",
       "\n",
       "    artists  danceability  energy       key  loudness  mode  speechiness  \\\n",
       "0  0.934300      0.652834  0.4450  0.000000 -3.459922   1.0     0.464948   \n",
       "1  0.295835      0.703441  0.2630  0.000000 -5.742153   1.0     0.986598   \n",
       "2  0.403002      0.439271  0.1770  0.090909 -5.494163   1.0     0.052784   \n",
       "3  0.403002      0.324899  0.0946  0.636364 -7.253178   1.0     0.051959   \n",
       "4  0.231895      0.406883  0.1580  0.272727 -4.383917   0.0     0.040206   \n",
       "\n",
       "   acousticness  instrumentalness  liveness  valence     tempo  \\\n",
       "0      0.676707            0.7440  0.151151    0.127  0.430826   \n",
       "1      0.800201            0.0000  0.148148    0.655  0.419148   \n",
       "2      0.997992            0.0218  0.212212    0.457  0.535879   \n",
       "3      0.998996            0.9180  0.104104    0.397  0.698437   \n",
       "4      0.992972            0.1300  0.311311    0.196  0.424124   \n",
       "\n",
       "   time_signature      year  \n",
       "0             0.6  0.951014  \n",
       "1             0.2  0.951014  \n",
       "2             1.0  0.951014  \n",
       "3             0.6  0.951014  \n",
       "4             0.8  0.951014  "
      ]
     },
     "execution_count": 10,
     "metadata": {},
     "output_type": "execute_result"
    }
   ],
   "source": [
    "df.head()"
   ]
  },
  {
   "cell_type": "code",
   "execution_count": 14,
   "metadata": {},
   "outputs": [],
   "source": [
    "df.to_csv('data.csv',index=False)"
   ]
  },
  {
   "cell_type": "code",
   "execution_count": 16,
   "metadata": {},
   "outputs": [
    {
     "data": {
      "text/plain": [
       "['encoder.z']"
      ]
     },
     "execution_count": 16,
     "metadata": {},
     "output_type": "execute_result"
    }
   ],
   "source": [
    "joblib.dump(nn,'model.z')\n",
    "joblib.dump(enc,'encoder.z')"
   ]
  },
  {
   "cell_type": "code",
   "execution_count": null,
   "metadata": {},
   "outputs": [],
   "source": []
  }
 ],
 "metadata": {
  "kernelspec": {
   "display_name": "Python 3",
   "language": "python",
   "name": "python3"
  },
  "language_info": {
   "codemirror_mode": {
    "name": "ipython",
    "version": 3
   },
   "file_extension": ".py",
   "mimetype": "text/x-python",
   "name": "python",
   "nbconvert_exporter": "python",
   "pygments_lexer": "ipython3",
   "version": "3.8.5"
  }
 },
 "nbformat": 4,
 "nbformat_minor": 5
}
